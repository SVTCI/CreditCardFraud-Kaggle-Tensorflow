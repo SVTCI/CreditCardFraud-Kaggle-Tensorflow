{
 "cells": [
  {
   "cell_type": "code",
   "execution_count": 1,
   "metadata": {},
   "outputs": [],
   "source": [
    "import pandas as pd\n",
    "import tensorflow as tf\n",
    "import numpy as np"
   ]
  },
  {
   "cell_type": "code",
   "execution_count": 2,
   "metadata": {},
   "outputs": [],
   "source": [
    "with open('creditcard.csv') as file:\n",
    "    readCSV = pd.read_csv(file, delimiter=',')\n",
    "    data = readCSV.values"
   ]
  },
  {
   "cell_type": "code",
   "execution_count": 3,
   "metadata": {},
   "outputs": [],
   "source": [
    "fraudData = []\n",
    "normalData = []\n",
    "for i in range(len(data)):\n",
    "    if (data[i,30] == 1):\n",
    "        fraudData.append(data[i])\n",
    "    else:\n",
    "        normalData.append(data[i])\n",
    "fraudData = np.array(fraudData)\n",
    "normalData = np.array(normalData)"
   ]
  },
  {
   "cell_type": "code",
   "execution_count": 4,
   "metadata": {},
   "outputs": [],
   "source": [
    "np.random.shuffle(normalData)\n",
    "normalData = data[0:492]\n",
    "data = np.concatenate((normalData, fraudData), axis = 0)\n",
    "np.random.shuffle(data)\n",
    "answers = data[:,30]\n",
    "data = data[:,:30]"
   ]
  },
  {
   "cell_type": "code",
   "execution_count": 5,
   "metadata": {
    "collapsed": true
   },
   "outputs": [],
   "source": [
    "batchSz = 10"
   ]
  },
  {
   "cell_type": "code",
   "execution_count": 6,
   "metadata": {},
   "outputs": [],
   "source": [
    "U = tf.Variable(tf.random_normal([30, 900], stddev=.1))\n",
    "bU = tf.Variable(tf.random_normal([900], stddev=.1))\n",
    "V = tf.Variable(tf.random_normal([900, 2], stddev=.1))\n",
    "bV = tf.Variable(tf.random_normal([2], stddev=.1))\n",
    "\n",
    "inputFeatures = tf.placeholder(tf.float32, shape=[batchSz, 30])\n",
    "ans = tf.placeholder(tf.int64, shape=[batchSz])\n",
    "\n",
    "L1Output = tf.matmul(inputFeatures, U) + bU\n",
    "L1Output = tf.nn.relu(L1Output)\n",
    "logs = tf.matmul(L1Output, V) + bV\n",
    "prbs = tf.nn.softmax(logs)\n",
    "xEnt = tf.nn.sparse_softmax_cross_entropy_with_logits(logits=logs, labels=ans)\n",
    "train = tf.train.AdamOptimizer(0.0001).minimize(xEnt)\n",
    "numCorrect = tf.equal(tf.argmax(prbs,1), ans)\n",
    "accuracy = tf.reduce_mean(tf.cast(numCorrect, tf.float32))\n",
    "\n",
    "sess = tf.Session()\n",
    "sess.run(tf.global_variables_initializer())"
   ]
  },
  {
   "cell_type": "code",
   "execution_count": 7,
   "metadata": {},
   "outputs": [],
   "source": [
    "datalength = len(data)\n",
    "numIter = 0\n",
    "sumAcc = 0\n",
    "for epoch in range(10):\n",
    "    for i in range(int((datalength*3)/4)):\n",
    "        inputs = data[i:i+batchSz]\n",
    "        answr = answers[i:i+batchSz]\n",
    "        i += batchSz\n",
    "        sess.run(train, feed_dict={inputFeatures: inputs, ans: answr})"
   ]
  },
  {
   "cell_type": "code",
   "execution_count": 8,
   "metadata": {},
   "outputs": [],
   "source": [
    "sumAcc = 0\n",
    "numIter = 0\n",
    "for i in range(int((datalength*3)/4), datalength-9):\n",
    "    inputs = data[i:i+batchSz]\n",
    "    answr = answers[i:i+batchSz]\n",
    "    sumAcc += sess.run(accuracy, feed_dict={inputFeatures: inputs, ans: answr})\n",
    "    i += batchSz\n",
    "    numIter += 1"
   ]
  },
  {
   "cell_type": "code",
   "execution_count": 9,
   "metadata": {},
   "outputs": [
    {
     "name": "stdout",
     "output_type": "stream",
     "text": [
      "0.987341769134\n"
     ]
    }
   ],
   "source": [
    "print(sumAcc/numIter)"
   ]
  },
  {
   "cell_type": "code",
   "execution_count": null,
   "metadata": {
    "collapsed": true
   },
   "outputs": [],
   "source": []
  }
 ],
 "metadata": {
  "kernelspec": {
   "display_name": "Python 3",
   "language": "python",
   "name": "python3"
  },
  "language_info": {
   "codemirror_mode": {
    "name": "ipython",
    "version": 3
   },
   "file_extension": ".py",
   "mimetype": "text/x-python",
   "name": "python",
   "nbconvert_exporter": "python",
   "pygments_lexer": "ipython3",
   "version": "3.5.4"
  }
 },
 "nbformat": 4,
 "nbformat_minor": 2
}
